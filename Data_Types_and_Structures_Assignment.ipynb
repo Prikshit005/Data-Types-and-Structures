{
  "nbformat": 4,
  "nbformat_minor": 0,
  "metadata": {
    "colab": {
      "provenance": []
    },
    "kernelspec": {
      "name": "python3",
      "display_name": "Python 3"
    },
    "language_info": {
      "name": "python"
    }
  },
  "cells": [
    {
      "cell_type": "markdown",
      "source": [
        "#Data Types and Structures"
      ],
      "metadata": {
        "id": "F0MOCpbERFRo"
      }
    },
    {
      "cell_type": "markdown",
      "source": [
        "**1.What are data structures, and why are they important?**\n",
        "\n",
        "- Data structures are specialized formats for organizing, storing, and managing data so it can be accessed and modified efficiently. Think of them like containers with rules about how data is arranged and how weinteract with it. Each type of data structure is optimized for specific tasks.\n",
        "\n",
        " **Why They’re Important:**\n",
        "- Efficiency\n",
        "\n",
        "- Scalability\n",
        "\n",
        "- Data Organization\n",
        "\n",
        "- Foundation of Algorithms\n",
        "\n",
        "- Problem Solving\n"
      ],
      "metadata": {
        "id": "XW_dLMyeRNcL"
      }
    },
    {
      "cell_type": "markdown",
      "source": [
        "**2.Explain the difference between mutable and immutable data types with examples?**\n",
        "- **Mutable objects** are those whose state can be changed after they are created. Examples of mutable objects include:\n",
        "\n",
        "- Lists\n",
        "\n",
        "- Dictionaries\n",
        "\n",
        "- Sets\n",
        "- **Immutable objects** are those whose state cannot be modified after they are created. Examples of immutable objects include:\n",
        "\n",
        "- Numbers (int, float, bool)\n",
        "\n",
        "- Strings\n",
        "\n",
        "- Tuples\n",
        "\n",
        "- Frozen sets"
      ],
      "metadata": {
        "id": "AZnddSf4SOng"
      }
    },
    {
      "cell_type": "markdown",
      "source": [
        "**3.What are the main differences between lists and tuples in Python?**"
      ],
      "metadata": {
        "id": "9udkx-3yTK9e"
      }
    },
    {
      "cell_type": "code",
      "source": [
        "import pandas as pd\n",
        "\n",
        "# Create a DataFrame (table) in pandas\n",
        "data = {\n",
        "    'Feature': ['Mutability', 'Syntax', 'Methods Available', 'Performance', 'Use Case', 'Hashable'],\n",
        "    'List': ['Mutable', '[] (square brackets)', 'Many (e.g., .append(), .sort())', 'Slower due to flexibility', 'For changing data (e.g., to-do list)', 'Not hashable'],\n",
        "    'Tuple': ['Immutable', '() (parentheses)', 'Fewer (mainly .count() & .index())', 'Faster due to immutability', 'For fixed data (e.g., coordinates)', 'Hashable'],\n",
        "}\n",
        "\n",
        "df = pd.DataFrame(data)\n",
        "\n",
        "# Display the table\n",
        "df\n"
      ],
      "metadata": {
        "colab": {
          "base_uri": "https://localhost:8080/",
          "height": 237
        },
        "id": "oFdXGgo4ZeUa",
        "outputId": "779d7d7d-3732-41d3-e2f4-ab66d91e410a"
      },
      "execution_count": 16,
      "outputs": [
        {
          "output_type": "execute_result",
          "data": {
            "text/plain": [
              "             Feature                                  List  \\\n",
              "0         Mutability                               Mutable   \n",
              "1             Syntax                  [] (square brackets)   \n",
              "2  Methods Available       Many (e.g., .append(), .sort())   \n",
              "3        Performance             Slower due to flexibility   \n",
              "4           Use Case  For changing data (e.g., to-do list)   \n",
              "5           Hashable                          Not hashable   \n",
              "\n",
              "                                Tuple  \n",
              "0                           Immutable  \n",
              "1                    () (parentheses)  \n",
              "2  Fewer (mainly .count() & .index())  \n",
              "3          Faster due to immutability  \n",
              "4  For fixed data (e.g., coordinates)  \n",
              "5                            Hashable  "
            ],
            "text/html": [
              "\n",
              "  <div id=\"df-0e3b47e0-cb74-4307-9ca9-8621ca36af41\" class=\"colab-df-container\">\n",
              "    <div>\n",
              "<style scoped>\n",
              "    .dataframe tbody tr th:only-of-type {\n",
              "        vertical-align: middle;\n",
              "    }\n",
              "\n",
              "    .dataframe tbody tr th {\n",
              "        vertical-align: top;\n",
              "    }\n",
              "\n",
              "    .dataframe thead th {\n",
              "        text-align: right;\n",
              "    }\n",
              "</style>\n",
              "<table border=\"1\" class=\"dataframe\">\n",
              "  <thead>\n",
              "    <tr style=\"text-align: right;\">\n",
              "      <th></th>\n",
              "      <th>Feature</th>\n",
              "      <th>List</th>\n",
              "      <th>Tuple</th>\n",
              "    </tr>\n",
              "  </thead>\n",
              "  <tbody>\n",
              "    <tr>\n",
              "      <th>0</th>\n",
              "      <td>Mutability</td>\n",
              "      <td>Mutable</td>\n",
              "      <td>Immutable</td>\n",
              "    </tr>\n",
              "    <tr>\n",
              "      <th>1</th>\n",
              "      <td>Syntax</td>\n",
              "      <td>[] (square brackets)</td>\n",
              "      <td>() (parentheses)</td>\n",
              "    </tr>\n",
              "    <tr>\n",
              "      <th>2</th>\n",
              "      <td>Methods Available</td>\n",
              "      <td>Many (e.g., .append(), .sort())</td>\n",
              "      <td>Fewer (mainly .count() &amp; .index())</td>\n",
              "    </tr>\n",
              "    <tr>\n",
              "      <th>3</th>\n",
              "      <td>Performance</td>\n",
              "      <td>Slower due to flexibility</td>\n",
              "      <td>Faster due to immutability</td>\n",
              "    </tr>\n",
              "    <tr>\n",
              "      <th>4</th>\n",
              "      <td>Use Case</td>\n",
              "      <td>For changing data (e.g., to-do list)</td>\n",
              "      <td>For fixed data (e.g., coordinates)</td>\n",
              "    </tr>\n",
              "    <tr>\n",
              "      <th>5</th>\n",
              "      <td>Hashable</td>\n",
              "      <td>Not hashable</td>\n",
              "      <td>Hashable</td>\n",
              "    </tr>\n",
              "  </tbody>\n",
              "</table>\n",
              "</div>\n",
              "    <div class=\"colab-df-buttons\">\n",
              "\n",
              "  <div class=\"colab-df-container\">\n",
              "    <button class=\"colab-df-convert\" onclick=\"convertToInteractive('df-0e3b47e0-cb74-4307-9ca9-8621ca36af41')\"\n",
              "            title=\"Convert this dataframe to an interactive table.\"\n",
              "            style=\"display:none;\">\n",
              "\n",
              "  <svg xmlns=\"http://www.w3.org/2000/svg\" height=\"24px\" viewBox=\"0 -960 960 960\">\n",
              "    <path d=\"M120-120v-720h720v720H120Zm60-500h600v-160H180v160Zm220 220h160v-160H400v160Zm0 220h160v-160H400v160ZM180-400h160v-160H180v160Zm440 0h160v-160H620v160ZM180-180h160v-160H180v160Zm440 0h160v-160H620v160Z\"/>\n",
              "  </svg>\n",
              "    </button>\n",
              "\n",
              "  <style>\n",
              "    .colab-df-container {\n",
              "      display:flex;\n",
              "      gap: 12px;\n",
              "    }\n",
              "\n",
              "    .colab-df-convert {\n",
              "      background-color: #E8F0FE;\n",
              "      border: none;\n",
              "      border-radius: 50%;\n",
              "      cursor: pointer;\n",
              "      display: none;\n",
              "      fill: #1967D2;\n",
              "      height: 32px;\n",
              "      padding: 0 0 0 0;\n",
              "      width: 32px;\n",
              "    }\n",
              "\n",
              "    .colab-df-convert:hover {\n",
              "      background-color: #E2EBFA;\n",
              "      box-shadow: 0px 1px 2px rgba(60, 64, 67, 0.3), 0px 1px 3px 1px rgba(60, 64, 67, 0.15);\n",
              "      fill: #174EA6;\n",
              "    }\n",
              "\n",
              "    .colab-df-buttons div {\n",
              "      margin-bottom: 4px;\n",
              "    }\n",
              "\n",
              "    [theme=dark] .colab-df-convert {\n",
              "      background-color: #3B4455;\n",
              "      fill: #D2E3FC;\n",
              "    }\n",
              "\n",
              "    [theme=dark] .colab-df-convert:hover {\n",
              "      background-color: #434B5C;\n",
              "      box-shadow: 0px 1px 3px 1px rgba(0, 0, 0, 0.15);\n",
              "      filter: drop-shadow(0px 1px 2px rgba(0, 0, 0, 0.3));\n",
              "      fill: #FFFFFF;\n",
              "    }\n",
              "  </style>\n",
              "\n",
              "    <script>\n",
              "      const buttonEl =\n",
              "        document.querySelector('#df-0e3b47e0-cb74-4307-9ca9-8621ca36af41 button.colab-df-convert');\n",
              "      buttonEl.style.display =\n",
              "        google.colab.kernel.accessAllowed ? 'block' : 'none';\n",
              "\n",
              "      async function convertToInteractive(key) {\n",
              "        const element = document.querySelector('#df-0e3b47e0-cb74-4307-9ca9-8621ca36af41');\n",
              "        const dataTable =\n",
              "          await google.colab.kernel.invokeFunction('convertToInteractive',\n",
              "                                                    [key], {});\n",
              "        if (!dataTable) return;\n",
              "\n",
              "        const docLinkHtml = 'Like what you see? Visit the ' +\n",
              "          '<a target=\"_blank\" href=https://colab.research.google.com/notebooks/data_table.ipynb>data table notebook</a>'\n",
              "          + ' to learn more about interactive tables.';\n",
              "        element.innerHTML = '';\n",
              "        dataTable['output_type'] = 'display_data';\n",
              "        await google.colab.output.renderOutput(dataTable, element);\n",
              "        const docLink = document.createElement('div');\n",
              "        docLink.innerHTML = docLinkHtml;\n",
              "        element.appendChild(docLink);\n",
              "      }\n",
              "    </script>\n",
              "  </div>\n",
              "\n",
              "\n",
              "<div id=\"df-cfd02970-97b6-4c11-aa99-feac39ec5f24\">\n",
              "  <button class=\"colab-df-quickchart\" onclick=\"quickchart('df-cfd02970-97b6-4c11-aa99-feac39ec5f24')\"\n",
              "            title=\"Suggest charts\"\n",
              "            style=\"display:none;\">\n",
              "\n",
              "<svg xmlns=\"http://www.w3.org/2000/svg\" height=\"24px\"viewBox=\"0 0 24 24\"\n",
              "     width=\"24px\">\n",
              "    <g>\n",
              "        <path d=\"M19 3H5c-1.1 0-2 .9-2 2v14c0 1.1.9 2 2 2h14c1.1 0 2-.9 2-2V5c0-1.1-.9-2-2-2zM9 17H7v-7h2v7zm4 0h-2V7h2v10zm4 0h-2v-4h2v4z\"/>\n",
              "    </g>\n",
              "</svg>\n",
              "  </button>\n",
              "\n",
              "<style>\n",
              "  .colab-df-quickchart {\n",
              "      --bg-color: #E8F0FE;\n",
              "      --fill-color: #1967D2;\n",
              "      --hover-bg-color: #E2EBFA;\n",
              "      --hover-fill-color: #174EA6;\n",
              "      --disabled-fill-color: #AAA;\n",
              "      --disabled-bg-color: #DDD;\n",
              "  }\n",
              "\n",
              "  [theme=dark] .colab-df-quickchart {\n",
              "      --bg-color: #3B4455;\n",
              "      --fill-color: #D2E3FC;\n",
              "      --hover-bg-color: #434B5C;\n",
              "      --hover-fill-color: #FFFFFF;\n",
              "      --disabled-bg-color: #3B4455;\n",
              "      --disabled-fill-color: #666;\n",
              "  }\n",
              "\n",
              "  .colab-df-quickchart {\n",
              "    background-color: var(--bg-color);\n",
              "    border: none;\n",
              "    border-radius: 50%;\n",
              "    cursor: pointer;\n",
              "    display: none;\n",
              "    fill: var(--fill-color);\n",
              "    height: 32px;\n",
              "    padding: 0;\n",
              "    width: 32px;\n",
              "  }\n",
              "\n",
              "  .colab-df-quickchart:hover {\n",
              "    background-color: var(--hover-bg-color);\n",
              "    box-shadow: 0 1px 2px rgba(60, 64, 67, 0.3), 0 1px 3px 1px rgba(60, 64, 67, 0.15);\n",
              "    fill: var(--button-hover-fill-color);\n",
              "  }\n",
              "\n",
              "  .colab-df-quickchart-complete:disabled,\n",
              "  .colab-df-quickchart-complete:disabled:hover {\n",
              "    background-color: var(--disabled-bg-color);\n",
              "    fill: var(--disabled-fill-color);\n",
              "    box-shadow: none;\n",
              "  }\n",
              "\n",
              "  .colab-df-spinner {\n",
              "    border: 2px solid var(--fill-color);\n",
              "    border-color: transparent;\n",
              "    border-bottom-color: var(--fill-color);\n",
              "    animation:\n",
              "      spin 1s steps(1) infinite;\n",
              "  }\n",
              "\n",
              "  @keyframes spin {\n",
              "    0% {\n",
              "      border-color: transparent;\n",
              "      border-bottom-color: var(--fill-color);\n",
              "      border-left-color: var(--fill-color);\n",
              "    }\n",
              "    20% {\n",
              "      border-color: transparent;\n",
              "      border-left-color: var(--fill-color);\n",
              "      border-top-color: var(--fill-color);\n",
              "    }\n",
              "    30% {\n",
              "      border-color: transparent;\n",
              "      border-left-color: var(--fill-color);\n",
              "      border-top-color: var(--fill-color);\n",
              "      border-right-color: var(--fill-color);\n",
              "    }\n",
              "    40% {\n",
              "      border-color: transparent;\n",
              "      border-right-color: var(--fill-color);\n",
              "      border-top-color: var(--fill-color);\n",
              "    }\n",
              "    60% {\n",
              "      border-color: transparent;\n",
              "      border-right-color: var(--fill-color);\n",
              "    }\n",
              "    80% {\n",
              "      border-color: transparent;\n",
              "      border-right-color: var(--fill-color);\n",
              "      border-bottom-color: var(--fill-color);\n",
              "    }\n",
              "    90% {\n",
              "      border-color: transparent;\n",
              "      border-bottom-color: var(--fill-color);\n",
              "    }\n",
              "  }\n",
              "</style>\n",
              "\n",
              "  <script>\n",
              "    async function quickchart(key) {\n",
              "      const quickchartButtonEl =\n",
              "        document.querySelector('#' + key + ' button');\n",
              "      quickchartButtonEl.disabled = true;  // To prevent multiple clicks.\n",
              "      quickchartButtonEl.classList.add('colab-df-spinner');\n",
              "      try {\n",
              "        const charts = await google.colab.kernel.invokeFunction(\n",
              "            'suggestCharts', [key], {});\n",
              "      } catch (error) {\n",
              "        console.error('Error during call to suggestCharts:', error);\n",
              "      }\n",
              "      quickchartButtonEl.classList.remove('colab-df-spinner');\n",
              "      quickchartButtonEl.classList.add('colab-df-quickchart-complete');\n",
              "    }\n",
              "    (() => {\n",
              "      let quickchartButtonEl =\n",
              "        document.querySelector('#df-cfd02970-97b6-4c11-aa99-feac39ec5f24 button');\n",
              "      quickchartButtonEl.style.display =\n",
              "        google.colab.kernel.accessAllowed ? 'block' : 'none';\n",
              "    })();\n",
              "  </script>\n",
              "</div>\n",
              "\n",
              "  <div id=\"id_6667e607-504b-4a1c-a8eb-a43e901f00a5\">\n",
              "    <style>\n",
              "      .colab-df-generate {\n",
              "        background-color: #E8F0FE;\n",
              "        border: none;\n",
              "        border-radius: 50%;\n",
              "        cursor: pointer;\n",
              "        display: none;\n",
              "        fill: #1967D2;\n",
              "        height: 32px;\n",
              "        padding: 0 0 0 0;\n",
              "        width: 32px;\n",
              "      }\n",
              "\n",
              "      .colab-df-generate:hover {\n",
              "        background-color: #E2EBFA;\n",
              "        box-shadow: 0px 1px 2px rgba(60, 64, 67, 0.3), 0px 1px 3px 1px rgba(60, 64, 67, 0.15);\n",
              "        fill: #174EA6;\n",
              "      }\n",
              "\n",
              "      [theme=dark] .colab-df-generate {\n",
              "        background-color: #3B4455;\n",
              "        fill: #D2E3FC;\n",
              "      }\n",
              "\n",
              "      [theme=dark] .colab-df-generate:hover {\n",
              "        background-color: #434B5C;\n",
              "        box-shadow: 0px 1px 3px 1px rgba(0, 0, 0, 0.15);\n",
              "        filter: drop-shadow(0px 1px 2px rgba(0, 0, 0, 0.3));\n",
              "        fill: #FFFFFF;\n",
              "      }\n",
              "    </style>\n",
              "    <button class=\"colab-df-generate\" onclick=\"generateWithVariable('df')\"\n",
              "            title=\"Generate code using this dataframe.\"\n",
              "            style=\"display:none;\">\n",
              "\n",
              "  <svg xmlns=\"http://www.w3.org/2000/svg\" height=\"24px\"viewBox=\"0 0 24 24\"\n",
              "       width=\"24px\">\n",
              "    <path d=\"M7,19H8.4L18.45,9,17,7.55,7,17.6ZM5,21V16.75L18.45,3.32a2,2,0,0,1,2.83,0l1.4,1.43a1.91,1.91,0,0,1,.58,1.4,1.91,1.91,0,0,1-.58,1.4L9.25,21ZM18.45,9,17,7.55Zm-12,3A5.31,5.31,0,0,0,4.9,8.1,5.31,5.31,0,0,0,1,6.5,5.31,5.31,0,0,0,4.9,4.9,5.31,5.31,0,0,0,6.5,1,5.31,5.31,0,0,0,8.1,4.9,5.31,5.31,0,0,0,12,6.5,5.46,5.46,0,0,0,6.5,12Z\"/>\n",
              "  </svg>\n",
              "    </button>\n",
              "    <script>\n",
              "      (() => {\n",
              "      const buttonEl =\n",
              "        document.querySelector('#id_6667e607-504b-4a1c-a8eb-a43e901f00a5 button.colab-df-generate');\n",
              "      buttonEl.style.display =\n",
              "        google.colab.kernel.accessAllowed ? 'block' : 'none';\n",
              "\n",
              "      buttonEl.onclick = () => {\n",
              "        google.colab.notebook.generateWithVariable('df');\n",
              "      }\n",
              "      })();\n",
              "    </script>\n",
              "  </div>\n",
              "\n",
              "    </div>\n",
              "  </div>\n"
            ],
            "application/vnd.google.colaboratory.intrinsic+json": {
              "type": "dataframe",
              "variable_name": "df",
              "summary": "{\n  \"name\": \"df\",\n  \"rows\": 6,\n  \"fields\": [\n    {\n      \"column\": \"Feature\",\n      \"properties\": {\n        \"dtype\": \"string\",\n        \"num_unique_values\": 6,\n        \"samples\": [\n          \"Mutability\",\n          \"Syntax\",\n          \"Hashable\"\n        ],\n        \"semantic_type\": \"\",\n        \"description\": \"\"\n      }\n    },\n    {\n      \"column\": \"List\",\n      \"properties\": {\n        \"dtype\": \"string\",\n        \"num_unique_values\": 6,\n        \"samples\": [\n          \"Mutable\",\n          \"[] (square brackets)\",\n          \"Not hashable\"\n        ],\n        \"semantic_type\": \"\",\n        \"description\": \"\"\n      }\n    },\n    {\n      \"column\": \"Tuple\",\n      \"properties\": {\n        \"dtype\": \"string\",\n        \"num_unique_values\": 6,\n        \"samples\": [\n          \"Immutable\",\n          \"() (parentheses)\",\n          \"Hashable\"\n        ],\n        \"semantic_type\": \"\",\n        \"description\": \"\"\n      }\n    }\n  ]\n}"
            }
          },
          "metadata": {},
          "execution_count": 16
        }
      ]
    },
    {
      "cell_type": "markdown",
      "source": [
        "**4. Describe how dictionaries store data.**\n",
        "- Dictionaries are one of the most powerful and widely used data structures in Python. Let’s break down how they store data:\n",
        "- **Hashing the Key**\n",
        "\n",
        "        Each key is passed through a hash function (hash() in Python), which turns it into a fixed-size number (called a hash value or hash code).\n",
        "\n",
        "- **Index Calculation**\n",
        "\n",
        "        The hash value is used to calculate an index in an internal array (called a bucket array).\n",
        "\n",
        "- **Storing the Pair**\n",
        "\n",
        "        The key-value pair is stored at that index in the array.\n",
        "\n",
        "- **Handling Collisions**\n",
        "\n",
        "         If two keys hash to the same index, Python uses a method like open addressing or probing to find another spot in the array."
      ],
      "metadata": {
        "id": "8rVvowAwcbRg"
      }
    },
    {
      "cell_type": "markdown",
      "source": [
        "**5. Why might we use a set instead of a list in Python.**\n",
        "- **Uniqueness:** Sets automatically ensure that all elements are unique. If we need to store a collection of items and want to avoid duplicates, a set is the ideal choice.\n",
        "- **Performance:** Sets provide faster membership testing compared to lists. Checking if an item exists in a set is on average O(1) time complexity, whereas in a list, it is O(n)."
      ],
      "metadata": {
        "id": "DuiAb0sZdjOV"
      }
    },
    {
      "cell_type": "code",
      "source": [],
      "metadata": {
        "id": "laACY49teIe_"
      },
      "execution_count": null,
      "outputs": []
    },
    {
      "cell_type": "markdown",
      "source": [
        "**6. What is a string in Python, and how is it different from a list?**\n",
        "- A string is a sequence of characters (letters, numbers, symbols) enclosed in quotes. It’s basically a text data type, and it's immutable, meaning we can't change parts of it once it's created.\n"
      ],
      "metadata": {
        "id": "6TaIay-ceOc6"
      }
    },
    {
      "cell_type": "code",
      "source": [
        "import pandas as pd\n",
        "data = {\n",
        "    'Feature': ['Data Type', 'Mutability', 'Syntax', 'Can Hold Mixed Types?', 'Slicing/Indexing', 'Methods'],\n",
        "    'String': ['Sequence of characters', 'Immutable', 'Quoted (\"hello\" or \\'hello\\')', 'No, only characters (str)', 'Supported', 'Rich string-specific methods (e.g., .upper(), .split())'],\n",
        "    'List': ['Sequence of any data types', 'Mutable', 'Square brackets ([1, 2, 3])', 'Yes (numbers, strings, etc.)', 'Supported', 'List-specific methods (e.g., .append(), .sort())'],\n",
        "}\n",
        "\n",
        "df = pd.DataFrame(data)\n",
        "\n",
        "# Display the table\n",
        "df\n",
        "\n",
        "df = pd.DataFrame(data)\n",
        "\n",
        "# Display the table\n",
        "df"
      ],
      "metadata": {
        "colab": {
          "base_uri": "https://localhost:8080/",
          "height": 237
        },
        "id": "PGFgzPK5i5bq",
        "outputId": "036377c7-8350-4770-f141-3fff7bbaa3b5"
      },
      "execution_count": 21,
      "outputs": [
        {
          "output_type": "execute_result",
          "data": {
            "text/plain": [
              "                 Feature                                             String  \\\n",
              "0              Data Type                             Sequence of characters   \n",
              "1             Mutability                                          Immutable   \n",
              "2                 Syntax                        Quoted (\"hello\" or 'hello')   \n",
              "3  Can Hold Mixed Types?                          No, only characters (str)   \n",
              "4       Slicing/Indexing                                          Supported   \n",
              "5                Methods  Rich string-specific methods (e.g., .upper(), ...   \n",
              "\n",
              "                                               List  \n",
              "0                        Sequence of any data types  \n",
              "1                                           Mutable  \n",
              "2                       Square brackets ([1, 2, 3])  \n",
              "3                      Yes (numbers, strings, etc.)  \n",
              "4                                         Supported  \n",
              "5  List-specific methods (e.g., .append(), .sort())  "
            ],
            "text/html": [
              "\n",
              "  <div id=\"df-289e0734-2034-408c-bf39-69596b4b4ccb\" class=\"colab-df-container\">\n",
              "    <div>\n",
              "<style scoped>\n",
              "    .dataframe tbody tr th:only-of-type {\n",
              "        vertical-align: middle;\n",
              "    }\n",
              "\n",
              "    .dataframe tbody tr th {\n",
              "        vertical-align: top;\n",
              "    }\n",
              "\n",
              "    .dataframe thead th {\n",
              "        text-align: right;\n",
              "    }\n",
              "</style>\n",
              "<table border=\"1\" class=\"dataframe\">\n",
              "  <thead>\n",
              "    <tr style=\"text-align: right;\">\n",
              "      <th></th>\n",
              "      <th>Feature</th>\n",
              "      <th>String</th>\n",
              "      <th>List</th>\n",
              "    </tr>\n",
              "  </thead>\n",
              "  <tbody>\n",
              "    <tr>\n",
              "      <th>0</th>\n",
              "      <td>Data Type</td>\n",
              "      <td>Sequence of characters</td>\n",
              "      <td>Sequence of any data types</td>\n",
              "    </tr>\n",
              "    <tr>\n",
              "      <th>1</th>\n",
              "      <td>Mutability</td>\n",
              "      <td>Immutable</td>\n",
              "      <td>Mutable</td>\n",
              "    </tr>\n",
              "    <tr>\n",
              "      <th>2</th>\n",
              "      <td>Syntax</td>\n",
              "      <td>Quoted (\"hello\" or 'hello')</td>\n",
              "      <td>Square brackets ([1, 2, 3])</td>\n",
              "    </tr>\n",
              "    <tr>\n",
              "      <th>3</th>\n",
              "      <td>Can Hold Mixed Types?</td>\n",
              "      <td>No, only characters (str)</td>\n",
              "      <td>Yes (numbers, strings, etc.)</td>\n",
              "    </tr>\n",
              "    <tr>\n",
              "      <th>4</th>\n",
              "      <td>Slicing/Indexing</td>\n",
              "      <td>Supported</td>\n",
              "      <td>Supported</td>\n",
              "    </tr>\n",
              "    <tr>\n",
              "      <th>5</th>\n",
              "      <td>Methods</td>\n",
              "      <td>Rich string-specific methods (e.g., .upper(), ...</td>\n",
              "      <td>List-specific methods (e.g., .append(), .sort())</td>\n",
              "    </tr>\n",
              "  </tbody>\n",
              "</table>\n",
              "</div>\n",
              "    <div class=\"colab-df-buttons\">\n",
              "\n",
              "  <div class=\"colab-df-container\">\n",
              "    <button class=\"colab-df-convert\" onclick=\"convertToInteractive('df-289e0734-2034-408c-bf39-69596b4b4ccb')\"\n",
              "            title=\"Convert this dataframe to an interactive table.\"\n",
              "            style=\"display:none;\">\n",
              "\n",
              "  <svg xmlns=\"http://www.w3.org/2000/svg\" height=\"24px\" viewBox=\"0 -960 960 960\">\n",
              "    <path d=\"M120-120v-720h720v720H120Zm60-500h600v-160H180v160Zm220 220h160v-160H400v160Zm0 220h160v-160H400v160ZM180-400h160v-160H180v160Zm440 0h160v-160H620v160ZM180-180h160v-160H180v160Zm440 0h160v-160H620v160Z\"/>\n",
              "  </svg>\n",
              "    </button>\n",
              "\n",
              "  <style>\n",
              "    .colab-df-container {\n",
              "      display:flex;\n",
              "      gap: 12px;\n",
              "    }\n",
              "\n",
              "    .colab-df-convert {\n",
              "      background-color: #E8F0FE;\n",
              "      border: none;\n",
              "      border-radius: 50%;\n",
              "      cursor: pointer;\n",
              "      display: none;\n",
              "      fill: #1967D2;\n",
              "      height: 32px;\n",
              "      padding: 0 0 0 0;\n",
              "      width: 32px;\n",
              "    }\n",
              "\n",
              "    .colab-df-convert:hover {\n",
              "      background-color: #E2EBFA;\n",
              "      box-shadow: 0px 1px 2px rgba(60, 64, 67, 0.3), 0px 1px 3px 1px rgba(60, 64, 67, 0.15);\n",
              "      fill: #174EA6;\n",
              "    }\n",
              "\n",
              "    .colab-df-buttons div {\n",
              "      margin-bottom: 4px;\n",
              "    }\n",
              "\n",
              "    [theme=dark] .colab-df-convert {\n",
              "      background-color: #3B4455;\n",
              "      fill: #D2E3FC;\n",
              "    }\n",
              "\n",
              "    [theme=dark] .colab-df-convert:hover {\n",
              "      background-color: #434B5C;\n",
              "      box-shadow: 0px 1px 3px 1px rgba(0, 0, 0, 0.15);\n",
              "      filter: drop-shadow(0px 1px 2px rgba(0, 0, 0, 0.3));\n",
              "      fill: #FFFFFF;\n",
              "    }\n",
              "  </style>\n",
              "\n",
              "    <script>\n",
              "      const buttonEl =\n",
              "        document.querySelector('#df-289e0734-2034-408c-bf39-69596b4b4ccb button.colab-df-convert');\n",
              "      buttonEl.style.display =\n",
              "        google.colab.kernel.accessAllowed ? 'block' : 'none';\n",
              "\n",
              "      async function convertToInteractive(key) {\n",
              "        const element = document.querySelector('#df-289e0734-2034-408c-bf39-69596b4b4ccb');\n",
              "        const dataTable =\n",
              "          await google.colab.kernel.invokeFunction('convertToInteractive',\n",
              "                                                    [key], {});\n",
              "        if (!dataTable) return;\n",
              "\n",
              "        const docLinkHtml = 'Like what you see? Visit the ' +\n",
              "          '<a target=\"_blank\" href=https://colab.research.google.com/notebooks/data_table.ipynb>data table notebook</a>'\n",
              "          + ' to learn more about interactive tables.';\n",
              "        element.innerHTML = '';\n",
              "        dataTable['output_type'] = 'display_data';\n",
              "        await google.colab.output.renderOutput(dataTable, element);\n",
              "        const docLink = document.createElement('div');\n",
              "        docLink.innerHTML = docLinkHtml;\n",
              "        element.appendChild(docLink);\n",
              "      }\n",
              "    </script>\n",
              "  </div>\n",
              "\n",
              "\n",
              "<div id=\"df-4a523019-cb4d-4d9f-a61a-ebf999e4d30b\">\n",
              "  <button class=\"colab-df-quickchart\" onclick=\"quickchart('df-4a523019-cb4d-4d9f-a61a-ebf999e4d30b')\"\n",
              "            title=\"Suggest charts\"\n",
              "            style=\"display:none;\">\n",
              "\n",
              "<svg xmlns=\"http://www.w3.org/2000/svg\" height=\"24px\"viewBox=\"0 0 24 24\"\n",
              "     width=\"24px\">\n",
              "    <g>\n",
              "        <path d=\"M19 3H5c-1.1 0-2 .9-2 2v14c0 1.1.9 2 2 2h14c1.1 0 2-.9 2-2V5c0-1.1-.9-2-2-2zM9 17H7v-7h2v7zm4 0h-2V7h2v10zm4 0h-2v-4h2v4z\"/>\n",
              "    </g>\n",
              "</svg>\n",
              "  </button>\n",
              "\n",
              "<style>\n",
              "  .colab-df-quickchart {\n",
              "      --bg-color: #E8F0FE;\n",
              "      --fill-color: #1967D2;\n",
              "      --hover-bg-color: #E2EBFA;\n",
              "      --hover-fill-color: #174EA6;\n",
              "      --disabled-fill-color: #AAA;\n",
              "      --disabled-bg-color: #DDD;\n",
              "  }\n",
              "\n",
              "  [theme=dark] .colab-df-quickchart {\n",
              "      --bg-color: #3B4455;\n",
              "      --fill-color: #D2E3FC;\n",
              "      --hover-bg-color: #434B5C;\n",
              "      --hover-fill-color: #FFFFFF;\n",
              "      --disabled-bg-color: #3B4455;\n",
              "      --disabled-fill-color: #666;\n",
              "  }\n",
              "\n",
              "  .colab-df-quickchart {\n",
              "    background-color: var(--bg-color);\n",
              "    border: none;\n",
              "    border-radius: 50%;\n",
              "    cursor: pointer;\n",
              "    display: none;\n",
              "    fill: var(--fill-color);\n",
              "    height: 32px;\n",
              "    padding: 0;\n",
              "    width: 32px;\n",
              "  }\n",
              "\n",
              "  .colab-df-quickchart:hover {\n",
              "    background-color: var(--hover-bg-color);\n",
              "    box-shadow: 0 1px 2px rgba(60, 64, 67, 0.3), 0 1px 3px 1px rgba(60, 64, 67, 0.15);\n",
              "    fill: var(--button-hover-fill-color);\n",
              "  }\n",
              "\n",
              "  .colab-df-quickchart-complete:disabled,\n",
              "  .colab-df-quickchart-complete:disabled:hover {\n",
              "    background-color: var(--disabled-bg-color);\n",
              "    fill: var(--disabled-fill-color);\n",
              "    box-shadow: none;\n",
              "  }\n",
              "\n",
              "  .colab-df-spinner {\n",
              "    border: 2px solid var(--fill-color);\n",
              "    border-color: transparent;\n",
              "    border-bottom-color: var(--fill-color);\n",
              "    animation:\n",
              "      spin 1s steps(1) infinite;\n",
              "  }\n",
              "\n",
              "  @keyframes spin {\n",
              "    0% {\n",
              "      border-color: transparent;\n",
              "      border-bottom-color: var(--fill-color);\n",
              "      border-left-color: var(--fill-color);\n",
              "    }\n",
              "    20% {\n",
              "      border-color: transparent;\n",
              "      border-left-color: var(--fill-color);\n",
              "      border-top-color: var(--fill-color);\n",
              "    }\n",
              "    30% {\n",
              "      border-color: transparent;\n",
              "      border-left-color: var(--fill-color);\n",
              "      border-top-color: var(--fill-color);\n",
              "      border-right-color: var(--fill-color);\n",
              "    }\n",
              "    40% {\n",
              "      border-color: transparent;\n",
              "      border-right-color: var(--fill-color);\n",
              "      border-top-color: var(--fill-color);\n",
              "    }\n",
              "    60% {\n",
              "      border-color: transparent;\n",
              "      border-right-color: var(--fill-color);\n",
              "    }\n",
              "    80% {\n",
              "      border-color: transparent;\n",
              "      border-right-color: var(--fill-color);\n",
              "      border-bottom-color: var(--fill-color);\n",
              "    }\n",
              "    90% {\n",
              "      border-color: transparent;\n",
              "      border-bottom-color: var(--fill-color);\n",
              "    }\n",
              "  }\n",
              "</style>\n",
              "\n",
              "  <script>\n",
              "    async function quickchart(key) {\n",
              "      const quickchartButtonEl =\n",
              "        document.querySelector('#' + key + ' button');\n",
              "      quickchartButtonEl.disabled = true;  // To prevent multiple clicks.\n",
              "      quickchartButtonEl.classList.add('colab-df-spinner');\n",
              "      try {\n",
              "        const charts = await google.colab.kernel.invokeFunction(\n",
              "            'suggestCharts', [key], {});\n",
              "      } catch (error) {\n",
              "        console.error('Error during call to suggestCharts:', error);\n",
              "      }\n",
              "      quickchartButtonEl.classList.remove('colab-df-spinner');\n",
              "      quickchartButtonEl.classList.add('colab-df-quickchart-complete');\n",
              "    }\n",
              "    (() => {\n",
              "      let quickchartButtonEl =\n",
              "        document.querySelector('#df-4a523019-cb4d-4d9f-a61a-ebf999e4d30b button');\n",
              "      quickchartButtonEl.style.display =\n",
              "        google.colab.kernel.accessAllowed ? 'block' : 'none';\n",
              "    })();\n",
              "  </script>\n",
              "</div>\n",
              "\n",
              "  <div id=\"id_760dd070-87e8-4ea3-bfc7-5c0bf947a789\">\n",
              "    <style>\n",
              "      .colab-df-generate {\n",
              "        background-color: #E8F0FE;\n",
              "        border: none;\n",
              "        border-radius: 50%;\n",
              "        cursor: pointer;\n",
              "        display: none;\n",
              "        fill: #1967D2;\n",
              "        height: 32px;\n",
              "        padding: 0 0 0 0;\n",
              "        width: 32px;\n",
              "      }\n",
              "\n",
              "      .colab-df-generate:hover {\n",
              "        background-color: #E2EBFA;\n",
              "        box-shadow: 0px 1px 2px rgba(60, 64, 67, 0.3), 0px 1px 3px 1px rgba(60, 64, 67, 0.15);\n",
              "        fill: #174EA6;\n",
              "      }\n",
              "\n",
              "      [theme=dark] .colab-df-generate {\n",
              "        background-color: #3B4455;\n",
              "        fill: #D2E3FC;\n",
              "      }\n",
              "\n",
              "      [theme=dark] .colab-df-generate:hover {\n",
              "        background-color: #434B5C;\n",
              "        box-shadow: 0px 1px 3px 1px rgba(0, 0, 0, 0.15);\n",
              "        filter: drop-shadow(0px 1px 2px rgba(0, 0, 0, 0.3));\n",
              "        fill: #FFFFFF;\n",
              "      }\n",
              "    </style>\n",
              "    <button class=\"colab-df-generate\" onclick=\"generateWithVariable('df')\"\n",
              "            title=\"Generate code using this dataframe.\"\n",
              "            style=\"display:none;\">\n",
              "\n",
              "  <svg xmlns=\"http://www.w3.org/2000/svg\" height=\"24px\"viewBox=\"0 0 24 24\"\n",
              "       width=\"24px\">\n",
              "    <path d=\"M7,19H8.4L18.45,9,17,7.55,7,17.6ZM5,21V16.75L18.45,3.32a2,2,0,0,1,2.83,0l1.4,1.43a1.91,1.91,0,0,1,.58,1.4,1.91,1.91,0,0,1-.58,1.4L9.25,21ZM18.45,9,17,7.55Zm-12,3A5.31,5.31,0,0,0,4.9,8.1,5.31,5.31,0,0,0,1,6.5,5.31,5.31,0,0,0,4.9,4.9,5.31,5.31,0,0,0,6.5,1,5.31,5.31,0,0,0,8.1,4.9,5.31,5.31,0,0,0,12,6.5,5.46,5.46,0,0,0,6.5,12Z\"/>\n",
              "  </svg>\n",
              "    </button>\n",
              "    <script>\n",
              "      (() => {\n",
              "      const buttonEl =\n",
              "        document.querySelector('#id_760dd070-87e8-4ea3-bfc7-5c0bf947a789 button.colab-df-generate');\n",
              "      buttonEl.style.display =\n",
              "        google.colab.kernel.accessAllowed ? 'block' : 'none';\n",
              "\n",
              "      buttonEl.onclick = () => {\n",
              "        google.colab.notebook.generateWithVariable('df');\n",
              "      }\n",
              "      })();\n",
              "    </script>\n",
              "  </div>\n",
              "\n",
              "    </div>\n",
              "  </div>\n"
            ],
            "application/vnd.google.colaboratory.intrinsic+json": {
              "type": "dataframe",
              "variable_name": "df",
              "summary": "{\n  \"name\": \"df\",\n  \"rows\": 6,\n  \"fields\": [\n    {\n      \"column\": \"Feature\",\n      \"properties\": {\n        \"dtype\": \"string\",\n        \"num_unique_values\": 6,\n        \"samples\": [\n          \"Data Type\",\n          \"Mutability\",\n          \"Methods\"\n        ],\n        \"semantic_type\": \"\",\n        \"description\": \"\"\n      }\n    },\n    {\n      \"column\": \"String\",\n      \"properties\": {\n        \"dtype\": \"string\",\n        \"num_unique_values\": 6,\n        \"samples\": [\n          \"Sequence of characters\",\n          \"Immutable\",\n          \"Rich string-specific methods (e.g., .upper(), .split())\"\n        ],\n        \"semantic_type\": \"\",\n        \"description\": \"\"\n      }\n    },\n    {\n      \"column\": \"List\",\n      \"properties\": {\n        \"dtype\": \"string\",\n        \"num_unique_values\": 6,\n        \"samples\": [\n          \"Sequence of any data types\",\n          \"Mutable\",\n          \"List-specific methods (e.g., .append(), .sort())\"\n        ],\n        \"semantic_type\": \"\",\n        \"description\": \"\"\n      }\n    }\n  ]\n}"
            }
          },
          "metadata": {},
          "execution_count": 21
        }
      ]
    },
    {
      "cell_type": "markdown",
      "source": [
        "**7. How do tuples ensure data integrity in Python?**\n",
        "- Data integrity means the data stays consistent, accurate, and unchanged—especially when it’s not supposed to be modified.\n",
        " - **How Tuples Help Ensure Data Integrity in Python:**\n",
        "    Tuples are immutable, meaning:\n",
        "\n",
        "    Once a tuple is created, its contents can't be changed.\n",
        "\n",
        "    We can't add, remove, or modify any element in a tuple.\n",
        "\n",
        "    This behavior helps protect the data from accidental changes."
      ],
      "metadata": {
        "id": "WysTdC9Xlo55"
      }
    },
    {
      "cell_type": "markdown",
      "source": [
        "**8. What is a hash table, and how does it relate to dictionaries in Python?**\n",
        "- A hash table is a data structure that stores data in key-value pairs and allows for very fast lookups, insertions, and deletions (on average, O(1) time).\n",
        "-  How Does This Relate to Python Dictionaries:\n",
        "In Python, a dictionary (dict) is implemented using a hash table.\n",
        "For example:"
      ],
      "metadata": {
        "id": "MAeKrK_9mEvq"
      }
    },
    {
      "cell_type": "code",
      "source": [
        "my_dict = {\"name\": \"Alice\", \"age\": 25}\n"
      ],
      "metadata": {
        "id": "rZb2Oiaumt3F"
      },
      "execution_count": 22,
      "outputs": []
    },
    {
      "cell_type": "markdown",
      "source": [
        "**9. Can lists contain different data types in Python?**\n",
        "- In Python, lists can contain elements of different data types—which is one of the features that makes them so flexible and powerful.\n",
        "For example:"
      ],
      "metadata": {
        "id": "X0GnPNx_mxZn"
      }
    },
    {
      "cell_type": "code",
      "source": [
        "my_list = [42, \"hello\", 3.14, True, [1, 2], {\"key\": \"value\"}]\n",
        "print(my_list)\n",
        "\n"
      ],
      "metadata": {
        "colab": {
          "base_uri": "https://localhost:8080/"
        },
        "id": "vwJyXY9inDh-",
        "outputId": "c668a9de-f125-4b89-bfa6-de33f9f2a82d"
      },
      "execution_count": 23,
      "outputs": [
        {
          "output_type": "stream",
          "name": "stdout",
          "text": [
            "[42, 'hello', 3.14, True, [1, 2], {'key': 'value'}]\n"
          ]
        }
      ]
    },
    {
      "cell_type": "markdown",
      "source": [
        "**10. Explain why strings are immutable in Python?**\n",
        "- Strings are immutable in Python to make them safe, reliable, and efficient.\n",
        "\n",
        "Once we create a string, we can’t change it. If we try to modify it, Python just creates a new string instead of changing the original one. This behavior helps in several important ways:\n",
        "\n",
        "**Safety:**\n",
        "If strings could be changed, bugs could happen when we accidentally modify a string that's used somewhere else in wer program. Making strings unchangeable helps prevent those surprises.\n",
        "\n",
        "**Dictionary and Set Keys:**\n",
        "Strings are often used as keys in dictionaries and elements in sets. These data structures rely on the fact that keys don’t change. If a string changed after being used as a key, the dictionary wouldn’t know where to find it anymore.\n",
        "\n",
        "**Efficiency:**\n",
        "Python can save memory by reusing identical string values (this is called string interning). This reuse only works if strings don’t change. If they were mutable, changing one string could accidentally change others that are supposed to be separate.\n",
        "\n",
        "**Simplicity:**\n",
        "When strings are immutable, it’s easier to predict how they behave. we always know a string will stay the same unless we explicitly create a new one.\n",
        "\n",
        ""
      ],
      "metadata": {
        "id": "aiDAntf4nJJ8"
      }
    },
    {
      "cell_type": "markdown",
      "source": [
        "**11. What advantages do dictionaries offer over lists for certain tasks?**\n",
        "- Dictionaries in Python offer several advantages over lists, especially when were working with labeled data or need to look things up quickly.\n",
        "- Faster Access to Data\n",
        "- Clear and Meaningful Organization\n",
        "- Easier to Update or Modify\n",
        "- Great for Real-World Data\n",
        "\n",
        "\n"
      ],
      "metadata": {
        "id": "5uF4Wmawooo8"
      }
    },
    {
      "cell_type": "markdown",
      "source": [
        "**12. Describe a scenario where using a tuple would be preferable over a list?**\n",
        "- Scenario: Storing Geographic Coordinates:\n",
        "\n",
        "\n",
        "```\n",
        "# Using a tuple to store geographic coordinates (latitude, longitude)\n",
        "coordinates = (37.7749, -122.4194)  # Latitude and longitude for San Francisco\n",
        "\n",
        "# Trying to modify it (this will raise an error)\n",
        "coordinates[0] = 40.7128  # TypeError: 'tuple' object does not support item assignment\n",
        "\n",
        "```\n",
        "\n",
        "\n",
        "```\n",
        "# Using a list for coordinates (not ideal)\n",
        "coordinates_list = [37.7749, -122.4194]\n",
        "coordinates_list[0] = 40.7128  # This is possible, and we might not want that\n",
        "```\n",
        "\n",
        "\n"
      ],
      "metadata": {
        "id": "zzoedpPhpc6b"
      }
    },
    {
      "cell_type": "markdown",
      "source": [
        "**13. How do sets handle duplicate values in Python?**\n",
        "- In Python, a set automatically removes duplicate values.\n",
        "It only keeps unique items, even if we try to add the same value more than once.\n",
        "For example:\n",
        "\n"
      ],
      "metadata": {
        "id": "tIzTHrosqZOU"
      }
    },
    {
      "cell_type": "code",
      "source": [
        "my_set = {1, 2, 2, 3}\n",
        "print(my_set)"
      ],
      "metadata": {
        "colab": {
          "base_uri": "https://localhost:8080/"
        },
        "id": "S_brhtWlrhdA",
        "outputId": "5b8cd18a-a473-4a36-8023-50f53d06e5f2"
      },
      "execution_count": 24,
      "outputs": [
        {
          "output_type": "stream",
          "name": "stdout",
          "text": [
            "{1, 2, 3}\n"
          ]
        }
      ]
    },
    {
      "cell_type": "markdown",
      "source": [
        "**14. How does the “in” keyword work differently for lists and dictionaries?**\n",
        "-  In a List:\n",
        "The in keyword checks if a value exists among the elements in the list.\n"
      ],
      "metadata": {
        "id": "QCG7eIWjrkkL"
      }
    },
    {
      "cell_type": "code",
      "source": [
        "my_list = [1, 2, 3, 4]\n",
        "print(2 in my_list)\n",
        "print(5 in my_list)\n"
      ],
      "metadata": {
        "colab": {
          "base_uri": "https://localhost:8080/"
        },
        "id": "d8GsXeOQsXv5",
        "outputId": "2722b9e4-0cd3-46eb-e4c4-12f6ee669d93"
      },
      "execution_count": 25,
      "outputs": [
        {
          "output_type": "stream",
          "name": "stdout",
          "text": [
            "True\n",
            "False\n"
          ]
        }
      ]
    },
    {
      "cell_type": "markdown",
      "source": [
        "- In a Dictionary:\n",
        "The in keyword checks if a key exists in the dictionary—not the values"
      ],
      "metadata": {
        "id": "F7z8ltl2syfM"
      }
    },
    {
      "cell_type": "code",
      "source": [
        "my_dict = {\"name\": \"Alice\", \"age\": 25}\n",
        "print(\"name\" in my_dict)\n",
        "print(\"Alice\" in my_dict)"
      ],
      "metadata": {
        "colab": {
          "base_uri": "https://localhost:8080/"
        },
        "id": "bdf4l7Q9sZTl",
        "outputId": "bdd65fb0-71f5-4b11-fe5e-9b50481f9603"
      },
      "execution_count": 30,
      "outputs": [
        {
          "output_type": "stream",
          "name": "stdout",
          "text": [
            "True\n",
            "False\n"
          ]
        }
      ]
    },
    {
      "cell_type": "markdown",
      "source": [
        "**15. Can we modify the elements of a tuple? Explain why or why not?**\n",
        "- No, we cannot modify the elements of a tuple in Python.Because tuples are immutable, meaning once a tuple is created, its contents cannot be changed. We can’t add, remove, or change any of its items.\n",
        "\n",
        ""
      ],
      "metadata": {
        "id": "btbQwDFgs91S"
      }
    },
    {
      "cell_type": "markdown",
      "source": [
        "**16. What is a nested dictionary, and give an example of its use case?**\n",
        "- A nested dictionary is a dictionary inside another dictionary.\n",
        "In other words, the value for a key is another dictionary.Example:"
      ],
      "metadata": {
        "id": "YZQxxmR9tkdG"
      }
    },
    {
      "cell_type": "code",
      "source": [
        "student = {\"name\": \"Alice\",\n",
        "    \"grades\": {\"math\": 90,\"science\": 85,\"history\": 88},\n",
        "    \"age\": 17}\n",
        "students = {\n",
        "\"101\": {\"name\": \"Alice\", \"age\": 17, \"grade\": \"A\"},\n",
        "\"102\": {\"name\": \"Bob\", \"age\": 18, \"grade\": \"B\"}\n",
        "}\n",
        "students[\"101\"][\"grade\"]"
      ],
      "metadata": {
        "colab": {
          "base_uri": "https://localhost:8080/",
          "height": 36
        },
        "id": "SAsdjQ-zuZfb",
        "outputId": "1d9f83c7-f71c-4ff4-f2d6-22a212d95693"
      },
      "execution_count": 36,
      "outputs": [
        {
          "output_type": "execute_result",
          "data": {
            "text/plain": [
              "'A'"
            ],
            "application/vnd.google.colaboratory.intrinsic+json": {
              "type": "string"
            }
          },
          "metadata": {},
          "execution_count": 36
        }
      ]
    },
    {
      "cell_type": "markdown",
      "source": [
        "**17. Describe the time complexity of accessing elements in a dictionary?**\n",
        "- Looking up a value in a dictionary using a key is usually very fast—it takes the same short amount of time no matter how many items are in the dictionary.\n",
        "This is called constant time, or O(1) in computer science terms."
      ],
      "metadata": {
        "id": "_6XASK40vwZR"
      }
    },
    {
      "cell_type": "markdown",
      "source": [
        "**18. In what situations are lists preferred over dictionaries?**\n",
        "- Lists are preferred over dictionaries when we need to store items in a specific order and access them by their position (index). They are ideal for situations where the data doesn't need labels or names—just a simple collection of values, like a list of numbers, names, or tasks. Lists also allow duplicate items, which is useful if repeated values matter in wer data. Additionally, if we plan to sort, slice, or loop through items in the order they were added, lists are the better choice because they are designed for that kind of sequence-based use. Overall, lists are simple, flexible, and great for handling ordered groups of data without needing key-value pairs."
      ],
      "metadata": {
        "id": "3S1oji0PwQwA"
      }
    },
    {
      "cell_type": "markdown",
      "source": [
        "**19. Why are dictionaries considered unordered, and how does that affect data retrieval?**\n",
        "- Dictionaries are considered unordered because the items in a dictionary are stored based on a hashing mechanism, not in any particular order. This means that the order in which we add items to a dictionary doesn't affect how they are stored or retrieved. While Python now maintains the insertion order in dictionaries (from version 3.7 onwards), this order is not guaranteed to be important for data retrieval. When we look up a value in a dictionary, we do so using its key, and Python finds the value directly without needing to go through the entire dictionary. This makes dictionary lookups fast and efficient, but it also means we cannot rely on the order of elements when retrieving them."
      ],
      "metadata": {
        "id": "38RRRzcHwv9n"
      }
    },
    {
      "cell_type": "markdown",
      "source": [
        "**20. Explain the difference between a list and a dictionary in terms of data retrieval?**\n",
        "- The main difference between a list and a dictionary in terms of data retrieval lies in how the data is accessed and how it is stored.\n",
        "\n",
        " **List** :\n",
        "   Data retrieval in a list is done by using the index (position) of the item.\n",
        "Lists are ordered, so the position of each item is important, and you can access the item using its index (like my_list[0] for the first item).\n",
        "If you need to search for a value, you would typically loop through the list or use a method like .index() to find it, which can take more time in larger lists.Example:"
      ],
      "metadata": {
        "id": "EJ5naXEmxTlp"
      }
    },
    {
      "cell_type": "code",
      "source": [
        "my_list = [10, 20, 30]\n",
        "print(my_list[1])\n"
      ],
      "metadata": {
        "colab": {
          "base_uri": "https://localhost:8080/"
        },
        "id": "DOqXFEmZx_FJ",
        "outputId": "6a291876-6c7c-4070-e003-08691b6d5e35"
      },
      "execution_count": 37,
      "outputs": [
        {
          "output_type": "stream",
          "name": "stdout",
          "text": [
            "20\n"
          ]
        }
      ]
    },
    {
      "cell_type": "markdown",
      "source": [
        "- **Dictionary**:\n",
        "Data retrieval in a dictionary is done by using the key, which maps directly to a value.\n",
        "Dictionaries are unordered (though insertion order is maintained in Python 3.7+), so the key-value pairs don’t have a specific position like in a list.\n",
        "Data retrieval is much faster in dictionaries, as Python uses a hashing mechanism to directly look up the key and retrieve the value, rather than searching through all items. Example:"
      ],
      "metadata": {
        "id": "7AzJoxrIyIes"
      }
    },
    {
      "cell_type": "code",
      "source": [
        "my_dict = {\"a\": 10, \"b\": 20, \"c\": 30}\n",
        "print(my_dict[\"b\"])\n"
      ],
      "metadata": {
        "colab": {
          "base_uri": "https://localhost:8080/"
        },
        "id": "_67HC5dgyX1o",
        "outputId": "a6a241e6-016d-46a6-f60e-5fa8d7d7c71f"
      },
      "execution_count": 38,
      "outputs": [
        {
          "output_type": "stream",
          "name": "stdout",
          "text": [
            "20\n"
          ]
        }
      ]
    },
    {
      "cell_type": "markdown",
      "source": [
        "#Practical Questions"
      ],
      "metadata": {
        "id": "mPamVx05ycBS"
      }
    },
    {
      "cell_type": "markdown",
      "source": [
        "**1. Write a code to create a string with your name and print it.**"
      ],
      "metadata": {
        "id": "rX30XBeLylGC"
      }
    },
    {
      "cell_type": "code",
      "source": [
        "my_name = \"Alice\"\n",
        "print(my_name)\n"
      ],
      "metadata": {
        "colab": {
          "base_uri": "https://localhost:8080/"
        },
        "id": "hbLcdynVysYC",
        "outputId": "4d94302e-2978-4dd2-de39-1dda3bbbd049"
      },
      "execution_count": 40,
      "outputs": [
        {
          "output_type": "stream",
          "name": "stdout",
          "text": [
            "Alice\n"
          ]
        }
      ]
    },
    {
      "cell_type": "markdown",
      "source": [
        "**2. Write a code to find the length of the string \"Hello World\".**"
      ],
      "metadata": {
        "id": "MhVtBYGay2Jv"
      }
    },
    {
      "cell_type": "code",
      "source": [
        "my_string = \"Hello World\"\n",
        "length_of_string = len(my_string)\n",
        "print(\"Length of the string:\", length_of_string)\n"
      ],
      "metadata": {
        "colab": {
          "base_uri": "https://localhost:8080/"
        },
        "id": "VMyJrC11y7Jb",
        "outputId": "d0824ca8-ddcf-42ed-cc28-9719e6fe8144"
      },
      "execution_count": 41,
      "outputs": [
        {
          "output_type": "stream",
          "name": "stdout",
          "text": [
            "Length of the string: 11\n"
          ]
        }
      ]
    },
    {
      "cell_type": "markdown",
      "source": [
        "**3. Write a code to slice the first 3 characters from the string \"Python Programming\".**"
      ],
      "metadata": {
        "id": "XsewLrzdzJCN"
      }
    },
    {
      "cell_type": "code",
      "source": [
        "my_string = \"Python Programming\"\n",
        "sliced_string = my_string[:3]\n",
        "print(\"First 3 characters:\", sliced_string)\n"
      ],
      "metadata": {
        "colab": {
          "base_uri": "https://localhost:8080/"
        },
        "id": "YGAcoQbyzRpW",
        "outputId": "709753bc-a4b1-4608-af15-50d77532d133"
      },
      "execution_count": 42,
      "outputs": [
        {
          "output_type": "stream",
          "name": "stdout",
          "text": [
            "First 3 characters: Pyt\n"
          ]
        }
      ]
    },
    {
      "cell_type": "markdown",
      "source": [
        "**4. Write a code to convert the string \"hello\" to uppercase.**"
      ],
      "metadata": {
        "id": "vFt1l99OzY0F"
      }
    },
    {
      "cell_type": "code",
      "source": [
        "my_string = \"hello\"\n",
        "uppercase_string = my_string.upper()\n",
        "print(\"Uppercase string:\", uppercase_string)\n"
      ],
      "metadata": {
        "colab": {
          "base_uri": "https://localhost:8080/"
        },
        "id": "rWPDi-hzzfPe",
        "outputId": "57254bc7-c3a8-49b3-9a5c-4306fe68ec05"
      },
      "execution_count": 43,
      "outputs": [
        {
          "output_type": "stream",
          "name": "stdout",
          "text": [
            "Uppercase string: HELLO\n"
          ]
        }
      ]
    },
    {
      "cell_type": "markdown",
      "source": [
        "**5. Write a code to replace the word \"apple\" with \"orange\" in the string \"I like apple\".**"
      ],
      "metadata": {
        "id": "vtiLDFZOznoq"
      }
    },
    {
      "cell_type": "code",
      "source": [
        "\n",
        "my_string = \"I like apple\"\n",
        "new_string = my_string.replace(\"apple\", \"orange\")\n",
        "print(\"Modified string:\", new_string)\n"
      ],
      "metadata": {
        "colab": {
          "base_uri": "https://localhost:8080/"
        },
        "id": "RaIfMUmpztEn",
        "outputId": "53605524-b4f4-433d-a8a5-e00e78e51623"
      },
      "execution_count": 44,
      "outputs": [
        {
          "output_type": "stream",
          "name": "stdout",
          "text": [
            "Modified string: I like orange\n"
          ]
        }
      ]
    },
    {
      "cell_type": "markdown",
      "source": [
        "**6.Write a code to create a list with numbers 1 to 5 and print it.**\n"
      ],
      "metadata": {
        "id": "TRWKoJlsz-ra"
      }
    },
    {
      "cell_type": "code",
      "source": [
        "my_list = [1, 2, 3, 4, 5]\n",
        "print(\"List of numbers:\", my_list)\n"
      ],
      "metadata": {
        "colab": {
          "base_uri": "https://localhost:8080/"
        },
        "id": "YKRaGQnbz7wc",
        "outputId": "76194358-1749-4521-e24f-e18de2c35963"
      },
      "execution_count": 45,
      "outputs": [
        {
          "output_type": "stream",
          "name": "stdout",
          "text": [
            "List of numbers: [1, 2, 3, 4, 5]\n"
          ]
        }
      ]
    },
    {
      "cell_type": "markdown",
      "source": [
        "**7. Write a code to append the number 10 to the list [1, 2, 3, 4].**"
      ],
      "metadata": {
        "id": "waS6oBlG0V56"
      }
    },
    {
      "cell_type": "code",
      "source": [
        "my_list = [1, 2, 3, 4]\n",
        "my_list.append(10)\n",
        "print(\"Updated list:\", my_list)\n"
      ],
      "metadata": {
        "colab": {
          "base_uri": "https://localhost:8080/"
        },
        "id": "1vLZ5Hp60hJY",
        "outputId": "ea7b18bc-2fd9-4a0b-a82d-71555e61e52a"
      },
      "execution_count": 46,
      "outputs": [
        {
          "output_type": "stream",
          "name": "stdout",
          "text": [
            "Updated list: [1, 2, 3, 4, 10]\n"
          ]
        }
      ]
    },
    {
      "cell_type": "markdown",
      "source": [
        "**8. Write a code to remove the number 3 from the list [1, 2, 3, 4, 5].**"
      ],
      "metadata": {
        "id": "QblEGldb0qP4"
      }
    },
    {
      "cell_type": "code",
      "source": [
        "my_list = [1, 2, 3, 4, 5]\n",
        "my_list.remove(3)\n",
        "print(\"Updated list:\", my_list)\n"
      ],
      "metadata": {
        "colab": {
          "base_uri": "https://localhost:8080/"
        },
        "id": "r07h0hhn0xM6",
        "outputId": "866f2997-06ed-41b9-c92c-a849a9812ecd"
      },
      "execution_count": 47,
      "outputs": [
        {
          "output_type": "stream",
          "name": "stdout",
          "text": [
            "Updated list: [1, 2, 4, 5]\n"
          ]
        }
      ]
    },
    {
      "cell_type": "markdown",
      "source": [
        "**9. Write a code to access the second element in the list ['a', 'b', 'c', 'd'].**"
      ],
      "metadata": {
        "id": "BhcJJ8px0500"
      }
    },
    {
      "cell_type": "code",
      "source": [
        "my_list = ['a', 'b', 'c', 'd']\n",
        "second_element = my_list[1]\n",
        "print(\"Second element:\", second_element)\n"
      ],
      "metadata": {
        "colab": {
          "base_uri": "https://localhost:8080/"
        },
        "id": "d4yeqwmM0_ly",
        "outputId": "b48ddd48-0675-40da-e6f4-163de351a7c0"
      },
      "execution_count": 48,
      "outputs": [
        {
          "output_type": "stream",
          "name": "stdout",
          "text": [
            "Second element: b\n"
          ]
        }
      ]
    },
    {
      "cell_type": "markdown",
      "source": [
        "**10. Write a code to reverse the list [10, 20, 30, 40, 50].**"
      ],
      "metadata": {
        "id": "5ssU1voD1HDc"
      }
    },
    {
      "cell_type": "code",
      "source": [
        "\n",
        "my_list = [10, 20, 30, 40, 50]\n",
        "\n",
        "my_list.reverse()\n",
        "\n",
        "print(\"Reversed list:\", my_list)\n"
      ],
      "metadata": {
        "colab": {
          "base_uri": "https://localhost:8080/"
        },
        "id": "bnc1_61-1PQd",
        "outputId": "1dfa9abb-59ea-4df2-8c06-4ad29a39e292"
      },
      "execution_count": 49,
      "outputs": [
        {
          "output_type": "stream",
          "name": "stdout",
          "text": [
            "Reversed list: [50, 40, 30, 20, 10]\n"
          ]
        }
      ]
    },
    {
      "cell_type": "markdown",
      "source": [
        "**11. Write a code to create a tuple with the elements 100, 200, 300 and print it.**\n"
      ],
      "metadata": {
        "id": "snJVSNsJ1WiZ"
      }
    },
    {
      "cell_type": "code",
      "source": [
        "\n",
        "my_tuple = (100, 200, 300)\n",
        "\n",
        "print(\"Tuple:\", my_tuple)\n"
      ],
      "metadata": {
        "colab": {
          "base_uri": "https://localhost:8080/"
        },
        "id": "NBRRDaaM1cgc",
        "outputId": "365ad205-a2ce-4998-ad99-e82362846238"
      },
      "execution_count": 50,
      "outputs": [
        {
          "output_type": "stream",
          "name": "stdout",
          "text": [
            "Tuple: (100, 200, 300)\n"
          ]
        }
      ]
    },
    {
      "cell_type": "markdown",
      "source": [
        " **12. Write a code to access the second-to-last element of the tuple ('red', 'green', 'blue', 'yellow').**"
      ],
      "metadata": {
        "id": "DSvt4_HE1i7y"
      }
    },
    {
      "cell_type": "code",
      "source": [
        "\n",
        "my_tuple = ('red', 'green', 'blue', 'yellow')\n",
        "\n",
        "second_to_last = my_tuple[-2]\n",
        "\n",
        "print(\"Second-to-last element:\", second_to_last)\n"
      ],
      "metadata": {
        "colab": {
          "base_uri": "https://localhost:8080/"
        },
        "id": "vqnFWe3z1pCZ",
        "outputId": "7f1200ba-9dc0-4c57-f79a-f0230b1df918"
      },
      "execution_count": 51,
      "outputs": [
        {
          "output_type": "stream",
          "name": "stdout",
          "text": [
            "Second-to-last element: blue\n"
          ]
        }
      ]
    },
    {
      "cell_type": "markdown",
      "source": [
        " **13. Write a code to find the minimum number in the tuple (10, 20, 5, 15).**\n"
      ],
      "metadata": {
        "id": "GAZdw9iS1w7j"
      }
    },
    {
      "cell_type": "code",
      "source": [
        "\n",
        "my_tuple = (10, 20, 5, 15)\n",
        "min_value = min(my_tuple)\n",
        "print(\"Minimum number:\", min_value)\n"
      ],
      "metadata": {
        "colab": {
          "base_uri": "https://localhost:8080/"
        },
        "id": "QuiewFFC137J",
        "outputId": "7280c4f4-4041-4f96-ce9e-6871ef00a149"
      },
      "execution_count": 52,
      "outputs": [
        {
          "output_type": "stream",
          "name": "stdout",
          "text": [
            "Minimum number: 5\n"
          ]
        }
      ]
    },
    {
      "cell_type": "markdown",
      "source": [
        " **14. Write a code to find the index of the element \"cat\" in the tuple ('dog', 'cat', 'rabbit').**"
      ],
      "metadata": {
        "id": "VulCv4XZ14df"
      }
    },
    {
      "cell_type": "code",
      "source": [
        "\n",
        "my_tuple = ('dog', 'cat', 'rabbit')\n",
        "index_of_cat = my_tuple.index('cat')\n",
        "print(\"Index of 'cat':\", index_of_cat)\n"
      ],
      "metadata": {
        "colab": {
          "base_uri": "https://localhost:8080/"
        },
        "id": "cTtlFVjy2KEF",
        "outputId": "430ee81e-3d44-4240-f925-d9ca0ca381a6"
      },
      "execution_count": 53,
      "outputs": [
        {
          "output_type": "stream",
          "name": "stdout",
          "text": [
            "Index of 'cat': 1\n"
          ]
        }
      ]
    },
    {
      "cell_type": "markdown",
      "source": [
        " **15. Write a code to create a tuple containing three different fruits and check if \"kiwi\" is in it.**"
      ],
      "metadata": {
        "id": "stszbFn92Rxt"
      }
    },
    {
      "cell_type": "code",
      "source": [
        "\n",
        "fruits_tuple = ('apple', 'banana', 'orange')\n",
        "is_kiwi_in_tuple = 'kiwi' in fruits_tuple\n",
        "print(\"Is 'kiwi' in the tuple?\", is_kiwi_in_tuple)\n"
      ],
      "metadata": {
        "colab": {
          "base_uri": "https://localhost:8080/"
        },
        "id": "l4djVTNW2V_L",
        "outputId": "802bc8d0-b00d-48c0-fc87-cc5613fae66b"
      },
      "execution_count": 54,
      "outputs": [
        {
          "output_type": "stream",
          "name": "stdout",
          "text": [
            "Is 'kiwi' in the tuple? False\n"
          ]
        }
      ]
    },
    {
      "cell_type": "markdown",
      "source": [
        " **16. Write a code to create a set with the elements 'a', 'b', 'c' and print it.**"
      ],
      "metadata": {
        "id": "6_UOjtdU2eL7"
      }
    },
    {
      "cell_type": "code",
      "source": [
        "\n",
        "my_set = {'a', 'b', 'c'}\n",
        "print(\"Set:\", my_set)\n"
      ],
      "metadata": {
        "colab": {
          "base_uri": "https://localhost:8080/"
        },
        "id": "DxARzgNl2ipt",
        "outputId": "c864e9a5-fc63-4ef9-d6ba-b08003669f35"
      },
      "execution_count": 55,
      "outputs": [
        {
          "output_type": "stream",
          "name": "stdout",
          "text": [
            "Set: {'c', 'b', 'a'}\n"
          ]
        }
      ]
    },
    {
      "cell_type": "markdown",
      "source": [
        " **17. Write a code to clear all elements from the set {1, 2, 3, 4, 5}.**"
      ],
      "metadata": {
        "id": "k_-SnZGS2ptf"
      }
    },
    {
      "cell_type": "code",
      "source": [
        "\n",
        "my_set = {1, 2, 3, 4, 5}\n",
        "my_set.clear()\n",
        "print(\"Cleared set:\", my_set)\n"
      ],
      "metadata": {
        "colab": {
          "base_uri": "https://localhost:8080/"
        },
        "id": "9xGLTC1b2t8B",
        "outputId": "2d100299-8eb7-4f17-bf76-296a7a0a154d"
      },
      "execution_count": 56,
      "outputs": [
        {
          "output_type": "stream",
          "name": "stdout",
          "text": [
            "Cleared set: set()\n"
          ]
        }
      ]
    },
    {
      "cell_type": "markdown",
      "source": [
        " **18. Write a code to remove the element 4 from the set {1, 2, 3, 4}.**\n"
      ],
      "metadata": {
        "id": "krNw9Z3S22VV"
      }
    },
    {
      "cell_type": "code",
      "source": [
        "\n",
        "my_set = {1, 2, 3, 4}\n",
        "my_set.remove(4)\n",
        "print(\"Updated set:\", my_set)\n"
      ],
      "metadata": {
        "colab": {
          "base_uri": "https://localhost:8080/"
        },
        "id": "9t_yPHWA26o7",
        "outputId": "a8192b31-655b-4f18-fa3f-7aca8c8e6a9a"
      },
      "execution_count": 57,
      "outputs": [
        {
          "output_type": "stream",
          "name": "stdout",
          "text": [
            "Updated set: {1, 2, 3}\n"
          ]
        }
      ]
    },
    {
      "cell_type": "markdown",
      "source": [
        " **19. Write a code to find the union of two sets {1, 2, 3} and {3, 4, 5}.**\n"
      ],
      "metadata": {
        "id": "uaBaX8CF3A_2"
      }
    },
    {
      "cell_type": "code",
      "source": [
        "\n",
        "set1 = {1, 2, 3}\n",
        "set2 = {3, 4, 5}\n",
        "union_set = set1.union(set2)\n",
        "print(\"Union of the sets:\", union_set)\n"
      ],
      "metadata": {
        "colab": {
          "base_uri": "https://localhost:8080/"
        },
        "id": "7TCEf5003FRW",
        "outputId": "3858a064-0b6f-4a51-f542-a23d7b2a5ae3"
      },
      "execution_count": 58,
      "outputs": [
        {
          "output_type": "stream",
          "name": "stdout",
          "text": [
            "Union of the sets: {1, 2, 3, 4, 5}\n"
          ]
        }
      ]
    },
    {
      "cell_type": "markdown",
      "source": [
        " **20. Write a code to find the intersection of two sets {1, 2, 3} and {2, 3, 4}.**\n"
      ],
      "metadata": {
        "id": "YZCjyvwP3LqH"
      }
    },
    {
      "cell_type": "code",
      "source": [
        "\n",
        "set1 = {1, 2, 3}\n",
        "set2 = {2, 3, 4}\n",
        "intersection_set = set1.intersection(set2)\n",
        "print(\"Intersection of the sets:\", intersection_set)\n"
      ],
      "metadata": {
        "colab": {
          "base_uri": "https://localhost:8080/"
        },
        "id": "rfQJl1gj3R7H",
        "outputId": "d7950c33-02a3-4747-b3bc-3518d6a8e09a"
      },
      "execution_count": 59,
      "outputs": [
        {
          "output_type": "stream",
          "name": "stdout",
          "text": [
            "Intersection of the sets: {2, 3}\n"
          ]
        }
      ]
    },
    {
      "cell_type": "markdown",
      "source": [
        " **21. Write a code to create a dictionary with the keys \"name\", \"age\", and \"city\", and print it.**\n"
      ],
      "metadata": {
        "id": "IgQCbnH53bAw"
      }
    },
    {
      "cell_type": "code",
      "source": [
        "\n",
        "my_dict = {\n",
        "    \"name\": \"Alice\",\n",
        "    \"age\": 25,\n",
        "    \"city\": \"New York\"\n",
        "}\n",
        "print(\"Dictionary:\", my_dict)\n"
      ],
      "metadata": {
        "colab": {
          "base_uri": "https://localhost:8080/"
        },
        "id": "EozU-1f83hmU",
        "outputId": "213ff274-0c7d-4a49-d6b5-81679b161f23"
      },
      "execution_count": 60,
      "outputs": [
        {
          "output_type": "stream",
          "name": "stdout",
          "text": [
            "Dictionary: {'name': 'Alice', 'age': 25, 'city': 'New York'}\n"
          ]
        }
      ]
    },
    {
      "cell_type": "markdown",
      "source": [
        " **22. Write a code to add a new key-value pair \"country\": \"USA\" to the dictionary {'name': 'John', 'age': 25}.**\n"
      ],
      "metadata": {
        "id": "MT-P65Wp3nd8"
      }
    },
    {
      "cell_type": "code",
      "source": [
        "\n",
        "my_dict = {'name': 'John', 'age': 25}\n",
        "my_dict[\"country\"] = \"USA\"\n",
        "print(\"Updated dictionary:\", my_dict)\n"
      ],
      "metadata": {
        "colab": {
          "base_uri": "https://localhost:8080/"
        },
        "id": "kYC6_RPF3tPI",
        "outputId": "649aa3b0-f176-490e-8cad-6ef9fa32bfd5"
      },
      "execution_count": 61,
      "outputs": [
        {
          "output_type": "stream",
          "name": "stdout",
          "text": [
            "Updated dictionary: {'name': 'John', 'age': 25, 'country': 'USA'}\n"
          ]
        }
      ]
    },
    {
      "cell_type": "markdown",
      "source": [
        " **23. Write a code to access the value associated with the key \"name\" in the dictionary {'name': 'Alice', 'age': 30}.**\n"
      ],
      "metadata": {
        "id": "G205jtA-30D1"
      }
    },
    {
      "cell_type": "code",
      "source": [
        "\n",
        "my_dict = {'name': 'Alice', 'age': 30}\n",
        "\n",
        "name_value = my_dict[\"name\"]\n",
        "\n",
        "print(\"Value associated with 'name':\", name_value)\n"
      ],
      "metadata": {
        "colab": {
          "base_uri": "https://localhost:8080/"
        },
        "id": "dznZYQAI33jG",
        "outputId": "0102ff48-9db3-432e-be65-f2ef608dbc7e"
      },
      "execution_count": 62,
      "outputs": [
        {
          "output_type": "stream",
          "name": "stdout",
          "text": [
            "Value associated with 'name': Alice\n"
          ]
        }
      ]
    },
    {
      "cell_type": "markdown",
      "source": [
        " **24. Write a code to remove the key \"age\" from the dictionary {'name': 'Bob', 'age': 22, 'city': 'New York'}.**\n"
      ],
      "metadata": {
        "id": "6HxouZ-H39Cn"
      }
    },
    {
      "cell_type": "code",
      "source": [
        "\n",
        "my_dict = {'name': 'Bob', 'age': 22, 'city': 'New York'}\n",
        "\n",
        "my_dict.pop(\"age\")\n",
        "\n",
        "print(\"Updated dictionary:\", my_dict)\n"
      ],
      "metadata": {
        "colab": {
          "base_uri": "https://localhost:8080/"
        },
        "id": "9qSZAXuY4AZ4",
        "outputId": "68eaa954-1031-480b-9a25-9270ca61d49b"
      },
      "execution_count": 63,
      "outputs": [
        {
          "output_type": "stream",
          "name": "stdout",
          "text": [
            "Updated dictionary: {'name': 'Bob', 'city': 'New York'}\n"
          ]
        }
      ]
    },
    {
      "cell_type": "markdown",
      "source": [
        " **25. Write a code to check if the key \"city\" exists in the dictionary {'name': 'Alice', 'city': 'Paris'}.**\n"
      ],
      "metadata": {
        "id": "X2-DkUwl4Gtw"
      }
    },
    {
      "cell_type": "code",
      "source": [
        "\n",
        "my_dict = {'name': 'Alice', 'city': 'Paris'}\n",
        "if \"city\" in my_dict:\n",
        "    print(\"The key 'city' exists in the dictionary.\")\n",
        "else:\n",
        "    print(\"The key 'city' does not exist in the dictionary.\")\n"
      ],
      "metadata": {
        "colab": {
          "base_uri": "https://localhost:8080/"
        },
        "id": "nNF4-vmf4KXk",
        "outputId": "bb0a57cf-ac64-4de6-99a4-0b7ad7362bf2"
      },
      "execution_count": 64,
      "outputs": [
        {
          "output_type": "stream",
          "name": "stdout",
          "text": [
            "The key 'city' exists in the dictionary.\n"
          ]
        }
      ]
    },
    {
      "cell_type": "markdown",
      "source": [
        " **26. Write a code to create a list, a tuple, and a dictionary, and print them all.**\n"
      ],
      "metadata": {
        "id": "539uEPsF4UEz"
      }
    },
    {
      "cell_type": "code",
      "source": [
        "\n",
        "my_list = [1, 2, 3, 4, 5]\n",
        "my_tuple = ('apple', 'banana', 'cherry')\n",
        "my_dict = {'name': 'Alice', 'age': 30, 'city': 'Paris'}\n",
        "print(\"List:\", my_list)\n",
        "print(\"Tuple:\", my_tuple)\n",
        "print(\"Dictionary:\", my_dict)\n"
      ],
      "metadata": {
        "colab": {
          "base_uri": "https://localhost:8080/"
        },
        "id": "OjP5Vkfz4Xxn",
        "outputId": "6b5a70f4-a162-46e5-ae46-c866867f3e94"
      },
      "execution_count": 65,
      "outputs": [
        {
          "output_type": "stream",
          "name": "stdout",
          "text": [
            "List: [1, 2, 3, 4, 5]\n",
            "Tuple: ('apple', 'banana', 'cherry')\n",
            "Dictionary: {'name': 'Alice', 'age': 30, 'city': 'Paris'}\n"
          ]
        }
      ]
    },
    {
      "cell_type": "markdown",
      "source": [
        " **27. Write a code to create a list of 5 random numbers between 1 and 100, sort it in ascending order, and print the result.**\n",
        "\n"
      ],
      "metadata": {
        "id": "YN1sUkLt4fqH"
      }
    },
    {
      "cell_type": "code",
      "source": [
        "import random\n",
        "\n",
        "# Create a list of 5 random numbers between 1 and 100\n",
        "random_numbers = random.sample(range(1, 101), 5)\n",
        "\n",
        "# Sort the list in ascending order\n",
        "random_numbers.sort()\n",
        "\n",
        "# Print the sorted list\n",
        "print(\"Sorted list of random numbers:\", random_numbers)\n"
      ],
      "metadata": {
        "colab": {
          "base_uri": "https://localhost:8080/"
        },
        "id": "FplctdDM45Zp",
        "outputId": "a5ec7e1c-1239-4502-d62f-040c15ce5bd7"
      },
      "execution_count": 66,
      "outputs": [
        {
          "output_type": "stream",
          "name": "stdout",
          "text": [
            "Sorted list of random numbers: [14, 45, 69, 84, 96]\n"
          ]
        }
      ]
    },
    {
      "cell_type": "markdown",
      "source": [
        "**28. Write a code to create a list with strings and print the element at the third index.**\n"
      ],
      "metadata": {
        "id": "tgsjWHM54_oH"
      }
    },
    {
      "cell_type": "code",
      "source": [
        "\n",
        "string_list = [\"apple\", \"banana\", \"cherry\", \"date\", \"elderberry\"]\n",
        "print(\"Element at index 3:\", string_list[3])\n"
      ],
      "metadata": {
        "colab": {
          "base_uri": "https://localhost:8080/"
        },
        "id": "rTAlA2Jn5DC5",
        "outputId": "6a3d32b0-f399-4740-b7c9-0dc7e83c315d"
      },
      "execution_count": 67,
      "outputs": [
        {
          "output_type": "stream",
          "name": "stdout",
          "text": [
            "Element at index 3: date\n"
          ]
        }
      ]
    },
    {
      "cell_type": "markdown",
      "source": [
        " **29. Write a code to combine two dictionaries into one and print the result.**\n"
      ],
      "metadata": {
        "id": "zSGzQJ8t5ITI"
      }
    },
    {
      "cell_type": "code",
      "source": [
        "\n",
        "dict1 = {'a': 1, 'b': 2}\n",
        "dict2 = {'c': 3, 'd': 4}\n",
        "combined_dict = {**dict1, **dict2}\n",
        "print(\"Combined dictionary:\", combined_dict)\n"
      ],
      "metadata": {
        "colab": {
          "base_uri": "https://localhost:8080/"
        },
        "id": "-WuUGqTt5Nhi",
        "outputId": "25ed9291-b221-4fdf-c417-df6fe66d49d0"
      },
      "execution_count": 68,
      "outputs": [
        {
          "output_type": "stream",
          "name": "stdout",
          "text": [
            "Combined dictionary: {'a': 1, 'b': 2, 'c': 3, 'd': 4}\n"
          ]
        }
      ]
    },
    {
      "cell_type": "markdown",
      "source": [
        " **30. Write a code to convert a list of strings into a set.**\n"
      ],
      "metadata": {
        "id": "1EKpNK8d5SuV"
      }
    },
    {
      "cell_type": "code",
      "source": [
        "\n",
        "string_list = [\"apple\", \"banana\", \"cherry\", \"apple\", \"banana\"]\n",
        "string_set = set(string_list)\n",
        "\n",
        "print(\"Set:\", string_set)\n"
      ],
      "metadata": {
        "colab": {
          "base_uri": "https://localhost:8080/"
        },
        "id": "h1nlW15o5Y1l",
        "outputId": "cba6e0e7-9c73-40be-90b2-d8adf4da0e0f"
      },
      "execution_count": 69,
      "outputs": [
        {
          "output_type": "stream",
          "name": "stdout",
          "text": [
            "Set: {'banana', 'apple', 'cherry'}\n"
          ]
        }
      ]
    }
  ]
}